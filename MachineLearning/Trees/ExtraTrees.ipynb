{
 "cells": [
  {
   "cell_type": "code",
   "execution_count": 27,
   "metadata": {
    "collapsed": true
   },
   "outputs": [],
   "source": [
    "import re\n",
    "import nltk\n",
    "import numpy as np\n",
    "import pandas as pd\n",
    "import pickle as pkl\n",
    "from sklearn.feature_extraction.text import CountVectorizer\n",
    "from sklearn.svm import SVC\n",
    "from sklearn.model_selection import KFold\n",
    "from sklearn.metrics import roc_curve, auc\n",
    "from nltk.corpus import stopwords\n",
    "import matplotlib.pyplot as plt\n",
    "from sklearn.feature_extraction.text import TfidfVectorizer\n",
    "import string\n",
    "from sklearn.ensemble import RandomForestClassifier,ExtraTreesClassifier\n",
    "from nltk.stem.wordnet import WordNetLemmatizer\n",
    "\n",
    "import math"
   ]
  },
  {
   "cell_type": "code",
   "execution_count": null,
   "metadata": {
    "collapsed": true
   },
   "outputs": [],
   "source": []
  },
  {
   "cell_type": "code",
   "execution_count": 16,
   "metadata": {
    "collapsed": true
   },
   "outputs": [],
   "source": [
    "def tokenize(text):\n",
    "    tokens = [word for sent in nltk.sent_tokenize(text) for word in nltk.word_tokenize(sent)]\n",
    "    filtered_tokens = [ token for token in tokens if re.search('(^[a-zA-Z]+$)', token) ]\n",
    "    #a=[]\n",
    "    #for i in filtered_tokens:\n",
    "    #    a.append(WordNetLemmatizer().lemmatize(i,'v'))\n",
    "    #return a\n",
    "    return filtered_tokens\n",
    "\n",
    "\n",
    "cachedStopWords = stopwords.words(\"english\") + ['age','ago','also','already',\n",
    "                                                'x','year', 'old', 'man', 'woman', 'ap',\n",
    "                                                'am', 'pm', 'portable', 'pa', 'lat', \n",
    "                                                'admitting', 'diagnosis', 'lateral',\n",
    "                                               'bb','bp','c','daily','data','date']\n",
    "\n",
    "\n"
   ]
  },
  {
   "cell_type": "code",
   "execution_count": 28,
   "metadata": {},
   "outputs": [
    {
     "data": {
      "text/plain": [
       "0.77272727272727271"
      ]
     },
     "execution_count": 28,
     "metadata": {},
     "output_type": "execute_result"
    }
   ],
   "source": [
    "file = open('corpus.pkl','rb')\n",
    "corpus = pkl.load(file)\n",
    "file.close()\n",
    "#corpusList = list(corpus.values())\n",
    "#labels = list(corpus.keys())\n",
    "corpusList=corpus[corpus.columns[0]].tolist()\n",
    "labels=corpus[corpus.columns[1]].tolist()\n",
    "\n",
    "\n",
    "\n",
    "## 22.7% is 1 , 77.27% is 0\n",
    "1-np.sum(labels)/len(labels) \n",
    "\n"
   ]
  },
  {
   "cell_type": "code",
   "execution_count": 29,
   "metadata": {
    "scrolled": false
   },
   "outputs": [
    {
     "name": "stdout",
     "output_type": "stream",
     "text": [
      "225\n",
      "765\n"
     ]
    }
   ],
   "source": [
    "bleed = corpus[corpus[corpus.columns[1]]==1]\n",
    "bleed = bleed.reset_index()\n",
    "bleed = bleed.drop('index',axis=1)\n",
    "print(len(bleed))\n",
    "\n",
    "\n",
    "no_bleed = corpus[corpus[corpus.columns[1]]==0]\n",
    "no_bleed = no_bleed.reset_index()\n",
    "no_bleed = no_bleed.drop('index',axis=1)\n",
    "print(len(no_bleed))\n"
   ]
  },
  {
   "cell_type": "code",
   "execution_count": null,
   "metadata": {
    "collapsed": true
   },
   "outputs": [],
   "source": []
  },
  {
   "cell_type": "code",
   "execution_count": 30,
   "metadata": {},
   "outputs": [
    {
     "name": "stdout",
     "output_type": "stream",
     "text": [
      "350\n"
     ]
    },
    {
     "data": {
      "text/plain": [
       "450"
      ]
     },
     "execution_count": 30,
     "metadata": {},
     "output_type": "execute_result"
    }
   ],
   "source": [
    "import random\n",
    "\n",
    "rd_no_bleed = no_bleed.iloc[np.random.choice(len(no_bleed), replace=False, size=len(bleed))]\n",
    "\n",
    "\n",
    "all_data =bleed.append(rd_no_bleed, ignore_index=True)\n",
    "\n",
    "\n",
    "\n",
    "\n",
    "\n",
    "\n",
    "print(len(test_data))\n",
    "len(all_data)\n",
    "\n"
   ]
  },
  {
   "cell_type": "code",
   "execution_count": 31,
   "metadata": {
    "scrolled": false
   },
   "outputs": [
    {
     "data": {
      "text/plain": [
       "0.5"
      ]
     },
     "execution_count": 31,
     "metadata": {},
     "output_type": "execute_result"
    }
   ],
   "source": [
    "corpusList=all_data[all_data.columns[0]].tolist()\n",
    "labels=all_data[all_data.columns[1]].tolist()\n",
    "\n",
    "## 22.7% is 1 , 77.27% is 0\n",
    "1-np.sum(labels)/len(labels) "
   ]
  },
  {
   "cell_type": "code",
   "execution_count": null,
   "metadata": {},
   "outputs": [],
   "source": [
    "######\n",
    "\n",
    "from nltk.stem.wordnet import WordNetLemmatizer\n",
    "words = ['gave','went','going','dating']\n",
    "for word in words:\n",
    "    print( word+\"-->\"+WordNetLemmatizer().lemmatize(word,'v'))\n",
    "    \n",
    "###"
   ]
  },
  {
   "cell_type": "code",
   "execution_count": null,
   "metadata": {},
   "outputs": [],
   "source": [
    "\n",
    "###\n",
    "cv = TfidfVectorizer(lowercase=True, max_features=None, preprocessor=None, stop_words=cachedStopWords,\n",
    "                    strip_accents=None, tokenizer=tokenize, vocabulary=None)\n",
    "X = cv.fit_transform(corpusList)\n",
    "print(X.shape)\n",
    "print()\n",
    "lexicon = cv.get_feature_names()\n",
    "#print (lexicon)\n",
    "print()"
   ]
  },
  {
   "cell_type": "code",
   "execution_count": 32,
   "metadata": {
    "collapsed": true
   },
   "outputs": [],
   "source": [
    "def tokenize(text):\n",
    "    tokens = [word for sent in nltk.sent_tokenize(text) for word in nltk.word_tokenize(sent)]\n",
    "    filtered_tokens = [ token for token in tokens if re.search('(^[a-zA-Z]+$)', token) ]\n",
    "    a=[]\n",
    "    for i in filtered_tokens:\n",
    "        a.append(WordNetLemmatizer().lemmatize(i,'v'))\n",
    "    return a\n",
    "    #return filtered_tokens\n",
    "\n",
    "\n",
    "cachedStopWords = stopwords.words(\"english\") + ['age','ago','also','already',\n",
    "                                                'x','year', 'old', 'man', 'woman', 'ap',\n",
    "                                                'am', 'pm', 'portable', 'pa', 'lat', \n",
    "                                                'admitting', 'diagnosis', 'lateral',\n",
    "                                               'bb','bp','c','daily','data','date','abd','abg',\n",
    "                                               'mg','ast','av','ck','cm','cr','cv','cvp','cpk','cx','day','dp','ed','f','ffp'\n",
    "                                               ,'hct','hd','icu','ii','id','ml','af','arf','bs',\n",
    "                                               'cc','ccu','hr','ef','fen','hpi','l','k','r','ra','abx'\n",
    "                                               'alk','phos','iv','ext','gi','iv','ivf','ni','ng','vs','vt','yo','yn',\n",
    "                                               'zosyn','kg','abx','alk','alt','ckmb','ct','cta','p','pe','po','c','ck','ca'\n",
    "                                               'q','cr','ni','ett','iv','g','h','j','k','l','z','x','c','v','b','n','m','i','ii',\n",
    "                                               'iii','iv','kg','lll','lvh','mb','mcg','md','ml','xl','wnl','wgt',\n",
    "                                                'q','w','e','r','t','y','u','i','o','p','first','gm','hcl','hs','hrs',\n",
    "                                               'inr','mmm','mr','mri','mrsa','ms','lf','nl','ns','nsr','sh','nt','tf','tr'\n",
    "                                               ,'wbc','plt','bcx','bph','bmp','mmhg','bps','sq','ld','ce','cbc','ckd',\n",
    "                                               'cp','cxr','cva','cvicu','dm','dr','name','ep','er','gtt','iabp','cxr',\n",
    "                                               'jvd','jvp','pt','kvo','lbs','na','nad','nd','nph','npo','osh',\n",
    "                                               ]\n"
   ]
  },
  {
   "cell_type": "code",
   "execution_count": 33,
   "metadata": {
    "scrolled": true
   },
   "outputs": [
    {
     "name": "stdout",
     "output_type": "stream",
     "text": [
      "(450, 3906)\n",
      "\n",
      "['aaa', 'abdomen', 'abdomen nutrition', 'abdomen obese', 'abdomen pelvis', 'abdomen soft', 'abdominal', 'abdominal pain', 'abdominal soft', 'abdominial', 'abdominial bruit', 'ablation', 'able', 'abnormal', 'abnormalities', 'abnormality', 'abscess', 'absence', 'absent', 'absent leave', 'absent skin', 'abuse', 'ac', 'access', 'access piv', 'accessory', 'accessory muscle', 'accident', 'accord', 'ace', 'ace inhibitor', 'acei', 'acetaminophen', 'acetaminophen albuterol', 'acetaminophen tablet', 'acid', 'acidosis', 'acquire', 'across', 'acs', 'active', 'active bleed', 'activity', 'activity status', 'acute', 'acute acute', 'acute chronic', 'acute distress', 'acute last', 'acute onset', 'acute pain', 'acute process', 'acute renal', 'acute respiratory', 'add', 'add follow', 'addendum', 'addendum enter', 'addition', 'additional', 'additionally', 'address', 'adequate', 'adequate uo', 'adjacent', 'adjust', 'administer', 'administration', 'admission aspirin', 'admission blood', 'admission discharge', 'admission except', 'admission height', 'admission labs', 'admission patient', 'admission total', 'admit', 'admit history', 'admit hospital', 'admit micu', 'adrenal', 'advair', 'advance', 'advance diet', 'adverse', 'adverse drug', 'advise', 'aerobic', 'aerosol', 'afebrile', 'affect', 'affect appropriate', 'afib', 'afib rvr', 'afternoon', 'agents', 'aggressive', 'aggressive diuresis', 'aggressively', 'agitate', 'agitation', 'agree', 'agree note', 'air', 'air movement', 'airway', 'airway clearance', 'akinesis', 'albumin', 'albuterol', 'albuterol inhaler', 'albuterol neb', 'albuterol sulfate', 'alcohol', 'alcohol use', 'alcoholic', 'alert', 'alert interactive', 'alert orient', 'alkalosis', 'allergies adverse', 'allergies codeine', 'allergies drug', 'allergies know', 'allergies last', 'allergies patient', 'allergies penicillins', 'allopurinol', 'allow', 'alone', 'along', 'alter', 'alter mental', 'alteration', 'alteration nutrition', 'although', 'ambulate', 'ambulatory', 'ambulatory independent', 'amio', 'amiodarone', 'amiodarone tablet', 'amlodipine', 'amount', 'ams', 'amylase', 'amylase lactic', 'amylase lipase', 'analysis', 'analysis labs', 'anemia', 'anemia chronic', 'anesthesia', 'aneurysm', 'angina', 'angiogram', 'angiography', 'angiography right', 'angioplasty', 'angle', 'anicteric', 'anicteric oropharynx', 'anicteric perrl', 'anion', 'anion gap', 'ankle', 'ankle edema', 'another', 'answer', 'answer question', 'answer service', 'anterior', 'anterior descend', 'anteriorly', 'anterolateral', 'antibiotic', 'antibiotics', 'antibiotics cefazolin', 'antibiotics cefipime', 'antibiotics ciprofloxacin', 'antibiotics infusions', 'antibiotics metronidazole', 'antibiotics vancomycin', 'anticoagulated', 'anticoagulation', 'anticoagulation coumadin', 'anxiety', 'anxious', 'aorta', 'aorta aortic', 'aorta enlarge', 'aortic', 'aortic aneurysm', 'aortic arch', 'aortic dissection', 'aortic regurgitation', 'aortic root', 'aortic stenosis', 'aortic valve', 'apex', 'apical', 'apnea', 'apparent', 'apparent distress', 'apparently', 'appear', 'appear structurally', 'appearance', 'appearance acute', 'appearance well', 'appendage', 'appendectomy', 'appetite', 'appl', 'appointment', 'appointment stitle', 'appointments', 'appreciate', 'appropriate', 'appropriate heent', 'appropriately', 'approx', 'approximately', 'approximately one', 'ar', 'ar mitral', 'arch', 'ards', 'area', 'areas', 'arm', 'around', 'arousable', 'arrange', 'arrest', 'arrhythmia', 'arrival', 'arrive', 'arterial', 'arterial line', 'arteries', 'artery', 'artery bypass', 'artery disease', 'artery leave', 'artery stenosis', 'artery systolic', 'arthritis', 'asa', 'asa plavix', 'asa statin', 'ascend', 'ascend aorta', 'ascites', 'asd', 'ask', 'aspirate', 'aspiration', 'aspiration pneumonia', 'aspirin', 'aspirin atorvastatin', 'aspirin ec', 'aspirin plavix', 'aspirin statins', 'aspirin tablet', 'assess', 'assess labs', 'assess leave', 'assess movement', 'assess neurologic', 'assess respiratory', 'assess right', 'assess skin', 'assess tone', 'assessment', 'assessment plan', 'assist', 'assistance', 'associate', 'asthma', 'asymptomatic', 'atelectasis', 'atenolol', 'atheroma', 'atheroma descend', 'ativan', 'atn', 'atorvastatin', 'atorvastatin calcium', 'atorvastatin tablet', 'atraumatic', 'atrial', 'atrial appendage', 'atrial fibrillation', 'atrial flutter', 'atrial septal', 'atrium', 'atrium mildly', 'atrium normal', 'atropine', 'atrovent', 'attack', 'attempt', 'attend', 'attend chief', 'attention', 'attentive', 'attentive follow', 'attribute', 'aureus', 'auscultation', 'auscultation bilaterally', 'available', 'avoid', 'avr', 'await', 'awake', 'awake alert', 'awake neurologically', 'aware', 'away', 'axis', 'azithromycin', 'back', 'back pain', 'bacteremia', 'bacteria', 'bacterial', 'bactrim', 'bal', 'balance', 'balance hours', 'balance respiratory', 'balloon', 'balloon pump', 'band', 'bandage', 'basal', 'base', 'baseline', 'baseline creatinine', 'basilar', 'bath', 'bath swim', 'beat', 'become', 'bed', 'bedside', 'bedtime', 'bedtime need', 'begin', 'believe', 'benadryl', 'benefit', 'benign', 'best', 'best park', 'beta', 'beta blocker', 'better', 'bibasilar', 'bicarb', 'bicarbonate', 'bid', 'bid time', 'bilat', 'bilateral', 'bilateral abdominal', 'bilateral lower', 'bilateral pleural', 'bilateral sternum', 'bilaterally', 'bilaterally heart', 'bili', 'biliary', 'bilirubin', 'bill', 'bioprosthetic', 'biopsy', 'bipap', 'birth', 'birth sex', 'bisacodyl', 'biventricular', 'biventricular systolic', 'black', 'black stool', 'bladder', 'bleed', 'bleed bleed', 'bleed gib', 'bleed patient', 'block', 'blocker', 'blocker vap', 'blood blood', 'blood brief', 'blood cell', 'blood cells', 'blood culture', 'blood glucose', 'blood ldh', 'blood loss', 'blood pressure', 'blood products', 'blood sugar', 'blood urine', 'bloody', 'bm', 'bnp', 'body', 'bolus', 'boluses', 'bone', 'boot', 'boot stress', 'boot uf', 'borderline', 'bottle', 'bowel', 'bowel movement', 'bowel regimen', 'bowel sound', 'bpm', 'bpm rr', 'bradycardia', 'bradycardic', 'brain', 'branch', 'brbpr', 'breast', 'breath', 'breath sound', 'breathe', 'brief', 'brief hospital', 'briefly', 'bring', 'bring operate', 'broad', 'broad spectrum', 'bromide', 'bromide neb', 'bronch', 'bronchial', 'bronchoscopy', 'brother', 'brown', 'bruit', 'bruit extremities', 'bruit skin', 'build', 'bump', 'bun', 'bun creatinine', 'bundle', 'bundle comment', 'bundle hob', 'bypass', 'bypass graft', 'ca', 'cabg', 'cabg lima', 'cad', 'cad cabg', 'calcification', 'calcifications', 'calcify', 'calcium', 'calcium carbonate', 'calcium gluconate', 'calf', 'call', 'call cardiac', 'call person', 'call question', 'call schedule', 'campus', 'campus east', 'cancer', 'candidate', 'cannula', 'cannula physical', 'cannula ventilator', 'cap', 'capacity', 'capsule', 'capsule bid', 'capsule delay', 'capsule refill', 'capsule sig', 'captopril', 'carbonate', 'carcinoma', 'card', 'cardiac', 'cardiac arrest', 'cardiac cath', 'cardiac catheterization', 'cardiac diet', 'cardiac enzymes', 'cardiac history', 'cardiac output', 'cardiac pmi', 'cardiac risk', 'cardiac surgery', 'cardiogenic', 'cardiogenic shock', 'cardiologist', 'cardiologist stitle', 'cardiology', 'cardiology consult', 'cardiomegaly', 'cardiomyopathy', 'cardiothoracic', 'cardiothoracic allergies', 'cardiovascular', 'cardiovascular aspirin', 'cardiovascular chest', 'cardiovascular normal', 'cardiovascular pmi', 'cardiovascular rhythm', 'cardioversion', 'cardizem', 'care facility', 'care nutrition', 'care physician', 'care unit', 'care wake', 'carotid', 'carotid bruit', 'carotid femoral', 'carotids', 'carvedilol', 'case', 'cataract', 'cath', 'cath lab', 'cath show', 'catheter', 'catheter gauge', 'catheter prophylaxis', 'catheter start', 'catheterization', 'catheterization reveal', 'catheterization show', 'cause', 'cavity', 'cavity size', 'cdiff', 'cefazolin', 'cefazolin infusions', 'cefepime', 'cefipime', 'ceftriaxone', 'cell', 'cell count', 'cells', 'center', 'central', 'central line', 'central venous', 'cerebral', 'certify', 'certify present', 'cervical', 'cervical cardiovascular', 'chair', 'chamber', 'chamber size', 'change', 'change medical', 'chart', 'check', 'check culture', 'check pain', 'chest', 'chest breath', 'chest clear', 'chest expansion', 'chest lungs', 'chest pain', 'chest radiograph', 'chest show', 'chest tube', 'chest wall', 'chewable', 'chewable sig', 'chf', 'chf exacerbation', 'children', 'chill', 'chlorhexidine', 'chlorhexidine gluconate', 'chloride', 'chloride bicarbonate', 'chloride bun', 'chloride flush', 'chloride meq', 'cholecystectomy', 'cholesterol', 'chronic', 'chronic anemia', 'chronic kidney', 'chronic obstructive', 'chronic pain', 'chronic renal', 'chronic systolic', 'cipro', 'ciprofloxacin', 'circumflex', 'cirrhosis', 'citrate', 'clamp', 'clean', 'clean dry', 'clear', 'clear abdominal', 'clear auscultation', 'clear bilaterally', 'clear coherent', 'clear neck', 'clear surgeon', 'clearance', 'clindamycin', 'clinic', 'clinical', 'clinically', 'clonidine', 'clopidogrel', 'clopidogrel tablet', 'close', 'close monitor', 'closely', 'closure', 'clot', 'club', 'club cyanosis', 'cmv', 'cn', 'coag', 'coags', 'coagulopathy', 'coarse', 'cocci', 'cod', 'code', 'code disposition', 'code full', 'code status', 'codeine', 'coherent', 'coherent level', 'colace', 'colitis', 'collapse', 'colon', 'colonoscopy', 'color', 'color doppler', 'combination', 'come', 'comfort', 'comfortable', 'comfortably', 'comm', 'command', 'command move', 'command respond', 'comment', 'comment code', 'comment communication', 'common', 'communication', 'communication comment', 'communication consent', 'communication patient', 'community', 'community acquire', 'compare', 'compare previous', 'compare prior', 'comparison', 'complain', 'complaint chest', 'complaint hour', 'complaint pmhx', 'complaint saw', 'complaint shortness', 'complaints', 'complete', 'complete course', 'complete doc', 'complex', 'compliance', 'compliance hcfa', 'compliance physical', 'complicate', 'complication', 'complications', 'component', 'compression', 'concern', 'concern answer', 'concern symptoms', 'conclusions', 'conclusions leave', 'condition', 'condition alert', 'condition discharge', 'condition good', 'condition mental', 'condition stable', 'confirm', 'confirm patient', 'confuse', 'confusion', 'congestion', 'congestive', 'congestive heart', 'conjunctiva', 'conjunctiva perrl', 'conjunctiva pink', 'consciousness', 'consciousness alert', 'consent', 'consent sign', 'consider', 'consistent', 'consolidation', 'constipation', 'constitutional', 'constitutional fatigue', 'consult', 'consult care', 'consult surgery', 'cont', 'contact', 'contact call', 'contain', 'continue', 'continue amiodarone', 'continue asa', 'continue aspirin', 'continue follow', 'continue hold', 'continue home', 'continue improve', 'continue metoprolol', 'continue monitor', 'continue statin', 'continue trend', 'continuous', 'contour', 'contrast', 'contribute', 'control', 'control acute', 'control insulin', 'control line', 'control regular', 'convert', 'cool', 'cop', 'copd', 'coreg', 'coronaries', 'coronary', 'coronary angiography', 'coronary artery', 'correct', 'cough', 'could', 'coumadin', 'coumadin dose', 'coumadin hold', 'coumadin stress', 'count', 'count hematocrit', 'couple', 'course', 'course complicate', 'course patient', 'cover', 'coverage', 'cpap', 'cpr', 'crackle', 'crackle base', 'crackle wheeze', 'cream', 'cream powder', 'creat', 'creatinine', 'creatinine glucose', 'cri', 'critical', 'critical aortic', 'critically', 'critically ill', 'cross', 'ctab', 'ctab crackle', 'culture', 'culture blood', 'culture negative', 'culture pending', 'culture show', 'culture urine', 'current', 'current admission', 'current bpm', 'current medications', 'currently', 'curve', 'cvs', 'cvvh', 'cyanosis', 'cyanosis edema', 'cyanosis oral', 'cycle', 'cyst', 'dark', 'daughter', 'days', 'days disp', 'days prior', 'dc', 'ddx', 'death', 'debridement', 'decide', 'decision', 'decision make', 'decline', 'decompensated', 'decompensation', 'decrease', 'decrease breath', 'decubitus', 'deep', 'deep venous', 'defect', 'defect see', 'defer', 'defer peep', 'deficiency', 'deficiency anemia', 'deficit', 'deficits', 'definite', 'deformities', 'deformities scoliosis', 'degenerative', 'degree', 'degree block', 'degrees', 'delay', 'delay release', 'delirium', 'delivery', 'delivery device', 'demand', 'demand ischemia', 'demonstrate', 'dental', 'dentition', 'deny', 'deny chest', 'deny recent', 'deny tobacco', 'department', 'dependent', 'depress', 'depression', 'depressions', 'dermatitis', 'dermatitis ulcers', 'des', 'descend', 'descend aorta', 'descend thoracic', 'describe', 'description', 'description comment', 'despite', 'detail', 'determine', 'develop', 'device', 'device endotracheal', 'device nasal', 'device none', 'device tracheostomy', 'dextrose', 'dextrose docusate', 'diabetes', 'diabetes mellitus', 'diabetic', 'diagnose', 'diagnostic', 'diagonal', 'dialysis', 'dialysis catheter', 'diameter', 'diaphoresis', 'diarrhea', 'diarrhea constipation', 'diastolic', 'diastolic chf', 'diastolic dysfunction', 'diastolic heart', 'dic', 'dictate', 'dictate job', 'die', 'diet', 'diet advance', 'diet glycemic', 'diet tolerate', 'diff', 'diff negative', 'differential', 'differential include', 'difficile', 'difficult', 'difficulty', 'diffuse', 'diffusely', 'digits', 'digoxin', 'dilantin', 'dilate', 'dilate leave', 'dilaudid', 'dilaudid prn', 'dilt', 'diltiazem', 'dimension', 'diminish', 'diminish right', 'direct', 'discharge', 'discharge birth', 'discharge condition', 'discharge diagnose', 'discharge discharge', 'discharge disposition', 'discharge home', 'discharge instructions', 'discharge medications', 'discharge patient', 'discharge primary', 'discharge rehab', 'discharge rehabilitation', 'discharge service', 'discharge status', 'discomfort', 'discontinue', 'discuss', 'discuss follow', 'discuss interdisciplinary', 'discuss patient', 'discussion', 'disease', 'disease check', 'disease lmca', 'disease patient', 'disease status', 'disorder', 'disp', 'disp capsule', 'disp refill', 'disp tablet', 'dispo', 'dispo care', 'disposition doc', 'disposition extend', 'disposition home', 'disposition pending', 'disposition total', 'disposition transfer', 'dissection', 'distal', 'distal pulse', 'distant', 'distend', 'distend extremities', 'distention', 'distress', 'distress eye', 'distress heent', 'distress overweight', 'diurese', 'diuresed', 'diuresis', 'diuretics', 'diverticulosis', 'dizziness', 'dni', 'dnr', 'dnr resuscitate', 'doctor', 'document', 'docusate', 'docusate sodium', 'dominant', 'dominant system', 'dopamine', 'doppler', 'doppler leave', 'dorsalis', 'dorsalis pedis', 'dose antibiotics', 'dose lasix', 'dose meds', 'double', 'downward', 'drain', 'drain balance', 'drain foley', 'drainage', 'draw', 'dress', 'dress image', 'drift', 'drink', 'drip', 'drive', 'drive approximately', 'drop', 'drug', 'drug allergies', 'drug attend', 'drug deny', 'drug reactions', 'drug use', 'dry', 'dry dress', 'dry intact', 'dry mouth', 'due', 'duration', 'dvt', 'dvt boot', 'dvt heparin', 'dvt stress', 'dvt systemic', 'dvt uf', 'dx', 'dysfunction', 'dyslipidemia', 'dysphagia', 'dyspnea', 'dyspnea exertion', 'dysuria', 'ear', 'ear nose', 'earlier', 'early', 'ears', 'ears nose', 'east', 'east best', 'eat', 'ec', 'ecg', 'echo', 'echo contrast', 'echo leave', 'echo show', 'echocardiogram', 'echocardiogram show', 'echocardiographic', 'echocardiography', 'edema', 'edema absent', 'edema bilaterally', 'edema labs', 'edema neuro', 'edema pulse', 'edema skin', 'edema temperature', 'edema trace', 'eeg', 'effect', 'effusion', 'effusion impression', 'effusions', 'egd', 'eight', 'either', 'ejection', 'ejection fraction', 'ekg', 'ekg change', 'ekg show', 'elderly', 'elective', 'electrocardiogram', 'electrolyte', 'electrolytes', 'elevate', 'elevation', 'elevation mouth', 'elevations', 'embolism', 'emergency', 'emergency department', 'emergency room', 'emergent', 'emesis', 'emphysema', 'empiric', 'empirically', 'ems', 'encephalopathy', 'end', 'endarterectomy', 'endocarditis', 'endocrine', 'endocrine riss', 'endoscopy', 'endotracheal', 'endotracheal tube', 'endurance', 'enlarge', 'enlarge palpation', 'enlargement', 'ent', 'enter', 'enter description', 'enter doc', 'enzymes', 'eomi', 'eomi conjunctiva', 'eomi neck', 'epinephrine', 'episode', 'episodes', 'epistaxis', 'equal', 'erythema', 'erythema drainage', 'esophageal', 'especially', 'esrd', 'essentially', 'estimate', 'etc', 'etiologies', 'etiology', 'etoh', 'euvolemic', 'eval', 'evaluate', 'evaluation', 'even', 'even take', 'event', 'events', 'events arterial', 'events receive', 'eventually', 'every', 'every hours', 'every morning', 'evidence', 'evidence acute', 'evidence infection', 'evidence pulmonary', 'exacerbate', 'exacerbation', 'exam', 'exam admission', 'exam general', 'exam vitals', 'examination', 'examination admission', 'examination gen', 'examination general', 'examination peripheral', 'examine', 'examine patient', 'except', 'except note', 'exchange', 'exclude', 'excursion', 'exercise', 'exertion', 'exertional', 'expansion', 'expansion symmetric', 'expect', 'experience', 'expiratory', 'expiratory wheeze', 'extend', 'extend care', 'extend release', 'extensive', 'external', 'extraocular', 'extraocular movements', 'extremities', 'extremities edema', 'extremities femoral', 'extremities labs', 'extremities right', 'extremities warm', 'extremity', 'extremity edema', 'extubate', 'extubated', 'extubated without', 'extubation', 'eye', 'eye conjunctiva', 'face', 'facial', 'facility', 'facility un', 'factor', 'fail', 'failure', 'failure acute', 'failure baseline', 'failure chf', 'failure chronic', 'failure likely', 'failure patient', 'faint', 'fall', 'family', 'family history', 'family meet', 'famotidine', 'famotidine pepcid', 'far', 'fat', 'father', 'father die', 'fatigue', 'febrile', 'feed', 'feed fluid', 'feel', 'feet', 'fellow', 'felt', 'fem', 'female', 'femoral', 'femoral bruit', 'femoral popliteal', 'fena', 'fentanyl', 'fentanyl citrate', 'fentanyl medications', 'fentanyl midazolam', 'fentanyl patch', 'ferrous', 'ferrous sulfate', 'fever', 'fever chill', 'fever curve', 'fever unknown', 'fevers', 'fevers chill', 'fh', 'fh ros', 'fib', 'fibrillation', 'fibrillation afib', 'fibrillation current', 'fibrillation total', 'fick', 'field', 'fill', 'fill pressure', 'film', 'final', 'find', 'find leave', 'finger', 'finish', 'firstname', 'fistula', 'five', 'fix', 'flagyl', 'flare', 'flash', 'flat', 'floor', 'floor doc', 'floor patient', 'floor stable', 'floor total', 'flow', 'flowsheet', 'flowsheet vital', 'fluconazole', 'fluid', 'fluid analysis', 'fluid balance', 'fluid blood', 'fluid overload', 'fluid restriction', 'fluid status', 'fluids', 'fluids consult', 'flush', 'flutter', 'focal', 'folate', 'foley', 'foley adequate', 'foley catheter', 'foley place', 'folic', 'folic acid', 'follow', 'follow appointment', 'follow appointments', 'follow change', 'follow command', 'follow primary', 'follow simple', 'follow stitle', 'followup', 'followup instructions', 'food', 'foot', 'former', 'forward', 'forward flow', 'four', 'four time', 'four weeks', 'fraction', 'fracture', 'free', 'free wall', 'free water', 'frequency', 'frequent', 'friday', 'frontal', 'fs', 'full', 'full code', 'full confirm', 'full glycemic', 'full rom', 'fully', 'function', 'function lvef', 'function normal', 'fungal', 'furosemide', 'furosemide lasix', 'furosemide tablet', 'future', 'gabapentin', 'gag', 'gain', 'gait', 'gallbladder', 'gallop', 'gallop abdomen', 'gap', 'garage', 'gas', 'gastric', 'gastritis', 'gastroesophageal', 'gastrointestinal', 'gastrointestinal abdomen', 'gastrointestinal abdominal', 'gastrointestinal bleed', 'gauge', 'gauge arterial', 'gauge gauge', 'gauge prophylaxis', 'gen', 'general', 'general alert', 'general appearance', 'general comment', 'generally', 'genitourinary', 'gentle', 'gentleman', 'gently', 'gently mild', 'gerd', 'get', 'gib', 'give', 'give concern', 'give history', 'give lasix', 'give low', 'give patient', 'give recent', 'glargine', 'glipizide', 'global', 'gluconate', 'gluconate oral', 'glucose', 'glucose labs', 'glyburide', 'glycemic', 'glycemic control', 'gnr', 'go', 'goal', 'goal negative', 'goals', 'good', 'good discharge', 'good effect', 'gout', 'gpc', 'grade', 'gradient', 'gradually', 'graft', 'graft cabg', 'graft leave', 'graft time', 'gram', 'gram negative', 'gram positive', 'gram stain', 'greater', 'grind', 'groin', 'gross', 'grossly', 'grossly intact', 'grow', 'growth', 'guaiac', 'guaiac positive', 'guaiac stool', 'guard', 'haldol', 'half', 'haloperidol', 'hand', 'hap', 'hcfa', 'hcfa regulations', 'hcp', 'hctz', 'head', 'head ears', 'head negative', 'head show', 'headache', 'heal', 'heal well', 'health', 'healthy', 'hear', 'heart block', 'heart disease', 'heart failure', 'heart rate', 'heart regular', 'heart rhythm', 'heart rrr', 'heavy', 'heel', 'heent', 'heent ncat', 'heent perrl', 'heent perrla', 'heent pupils', 'heent sclera', 'height', 'height inch', 'help', 'hematocrit', 'hematocrit platelet', 'hematocrit platelets', 'hematology', 'hematology stable', 'hematoma', 'hematuria', 'heme', 'hemodynamic', 'hemodynamic monitor', 'hemodynamically', 'hemodynamically stable', 'hemodynamics', 'hemoglobin', 'hemoptysis', 'hemorrhage', 'hep', 'heparin', 'heparin agents', 'heparin drip', 'heparin porcine', 'heparin sc', 'heparin sodium', 'heparin stress', 'hepatic', 'hepatic encephalopathy', 'hepatitis', 'hernia', 'hernia repair', 'hg', 'hgb', 'high', 'high risk', 'higher', 'hip', 'hiss', 'history cad', 'history cardiac', 'history coronary', 'history diabetes', 'history family', 'history father', 'history history', 'history hypertension', 'history live', 'history mother', 'history none', 'history obtain', 'history patient', 'history physical', 'history pmh', 'history present', 'history retire', 'history review', 'history significant', 'history social', 'history stroke', 'hit', 'hive', 'hob', 'hob elevation', 'hold', 'hold coumadin', 'hold give', 'hold home', 'hold lasix', 'hold set', 'home', 'home discharge', 'home dose', 'home medications', 'home meds', 'home regimen', 'home service', 'hospital', 'hospital course', 'hospital stay', 'hospitalization', 'hospitalize', 'hour', 'hour events', 'hours days', 'hours need', 'hours prn', 'hours since', 'house', 'however', 'hsm', 'hsm tenderness', 'htn', 'htn hyperlipidemia', 'humalog', 'human', 'husband', 'hx', 'hydralazine', 'hydration', 'hydromorphone', 'hydromorphone dilaudid', 'hydronephrosis', 'hypercarbic', 'hypercarbic respiratory', 'hypercholesterolemia', 'hyperglycemia', 'hyperkalemia', 'hyperlipidemia', 'hypernatremia', 'hypertension', 'hypertension benign', 'hypertension hypercholesterolemia', 'hypertension hyperlipidemia', 'hypertensive', 'hyperthermia', 'hyperthermia pyrexia', 'hypertrophy', 'hypertrophy normal', 'hypoglycemia', 'hypokinesis', 'hyponatremia', 'hypoperfusion', 'hypotension', 'hypotension shock', 'hypotensive', 'hypothyroidism', 'hypovolemia', 'hypoxemia', 'hypoxia', 'hypoxic', 'ibuprofen', 'icd', 'icterus', 'identifier', 'identifier physical', 'identify', 'ij', 'ileus', 'iliac', 'ill', 'ill doc', 'illicit', 'illicit drug', 'illness', 'illness male', 'illness patient', 'image', 'image fluids', 'image review', 'image today', 'imdur', 'immediately', 'impair', 'impair skin', 'impair transfer', 'important', 'impression', 'improve', 'improve continue', 'improvement', 'inability', 'inch', 'inch pap', 'inch total', 'incision', 'incision clean', 'incisions', 'incisions gently', 'incisions morning', 'include', 'include assessment', 'include wash', 'increase', 'independent', 'independent discharge', 'index', 'indicate', 'indication', 'induce', 'infarct', 'infarction', 'infect', 'infection', 'infections', 'infectious', 'infectious disease', 'infectious process', 'inferior', 'inferolateral', 'infiltrate', 'influenza', 'information', 'infusion', 'infusions', 'infusions fentanyl', 'infusions furosemide', 'infusions heparin', 'infusions medications', 'infusions midazolam', 'inguinal', 'inh', 'inhalation', 'inhalation every', 'inhaler', 'inhibitor', 'initial', 'initial pre', 'initially', 'initiate', 'initiation', 'injection', 'injury', 'inpatient', 'input', 'instruct', 'instructions', 'instructions admit', 'instructions please', 'instructions schedule', 'insufficiency', 'insulin', 'insulin drip', 'insulin ipratropium', 'insulin regular', 'insulin slide', 'intact', 'intact extubated', 'intact neurologic', 'intake', 'integrity', 'intensive', 'intensive care', 'interactive', 'interactive activity', 'intercostal', 'intercostal space', 'interdisciplinary', 'interdisciplinary round', 'intermittent', 'intermittently', 'internal', 'internal mammary', 'interpret', 'interstitial', 'interval', 'intervention', 'interventions', 'intracranial', 'intraven', 'intravenous', 'intubate', 'intubate sedate', 'intubation', 'invasive', 'invasive procedure', 'invasive ventilation', 'involve', 'iodine', 'iodine contain', 'iodine iodine', 'ip', 'ipratropium', 'ipratropium bromide', 'ir', 'iron', 'iron deficiency', 'iron study', 'irregular', 'irregular murmur', 'ischemia', 'ischemic', 'isosorbide', 'iss', 'issue', 'jaundice', 'jaundice neurologic', 'job', 'job number', 'joint', 'joint pain', 'jugular', 'kcl', 'keep', 'keppra', 'key', 'key portion', 'kgs', 'kgs baseline', 'kidney', 'kidney disease', 'klebsiella', 'knee', 'know', 'know allergies', 'know drug', 'knowledge', 'kub', 'kyphosis', 'kyphosis resp', 'lab', 'laboratory', 'labs', 'labs blood', 'labs notable', 'labs ptt', 'labs radiology', 'lack', 'lactate', 'lactic', 'lactic assessment', 'lactic image', 'lactulose', 'lad', 'lad svg', 'lansoprazole', 'lantus', 'large', 'lasix', 'lasix drip', 'lasix give', 'lasix medications', 'lasix tablet', 'last dose', 'last hours', 'last night', 'lastname', 'lastname admit', 'lastname patient', 'later', 'lavage', 'lbbb', 'lcx', 'ldh', 'ldh blood', 'le', 'le edema', 'lead', 'leaflet', 'leaflets', 'leaflets mildly', 'leak', 'least', 'leave absent', 'leave anterior', 'leave arm', 'leave atrial', 'leave atrium', 'leave carotid', 'leave chest', 'leave circumflex', 'leave extremities', 'leave internal', 'leave leg', 'leave lower', 'leave lung', 'leave main', 'leave pleural', 'leave pulse', 'leave radial', 'leave right', 'leave side', 'leave trace', 'leave upper', 'leave ventricle', 'leave ventricular', 'leg', 'legs', 'lesion', 'lesions', 'less', 'less likely', 'lethargic', 'lethargy', 'leukocytosis', 'levaquin', 'level', 'level consciousness', 'levo', 'levofloxacin', 'levophed', 'levothyroxine', 'lft', 'lfts', 'lidocaine', 'lie', 'lift', 'lift lungs', 'lift pound', 'light', 'lightheadedness', 'like', 'likely', 'likely due', 'likely give', 'likely relate', 'likely represent', 'likely secondary', 'lima', 'lima lad', 'limit', 'line', 'line arterial', 'line dialysis', 'line gauge', 'line multi', 'line picc', 'line place', 'line placement', 'line prophylaxis', 'line rr', 'line start', 'line tube', 'lipase', 'lipids', 'lipitor', 'liquid', 'liquids', 'lisinopril', 'lisinopril metoprolol', 'lisinopril tablet', 'list', 'liters', 'little', 'live', 'live alone', 'live husband', 'live wife', 'liver', 'lle', 'lm', 'lmca', 'load', 'lobe', 'locate', 'locate intercostal', 'location', 'long', 'longer', 'look', 'look incisions', 'lopressor', 'lorazepam', 'lose', 'loss', 'lotions', 'lotions cream', 'lovenox', 'low', 'low dose', 'low grade', 'lower', 'lower extremities', 'lower extremity', 'lower lobe', 'lue', 'lumen', 'lumen arterial', 'lumen gauge', 'lumen prophylaxis', 'lung', 'lung base', 'lung field', 'lungs', 'lungs chest', 'lungs clear', 'lungs ctab', 'lusb', 'lv', 'lv function', 'lv systolic', 'lvef', 'lvef right', 'lymph', 'lymphadenopathy', 'lymphatic', 'lymphatic cervical', 'lymphoma', 'lytes', 'lytes prn', 'machine', 'magnesia', 'magnesium', 'magnesium sulfate', 'main', 'maintain', 'maintenance', 'major', 'major surgical', 'make', 'male', 'male history', 'malignancy', 'mammary', 'mammary artery', 'manage', 'management', 'many', 'map', 'marginal', 'mark', 'markedly', 'marry', 'mask', 'mass', 'material', 'max', 'may', 'may need', 'may represent', 'mdi', 'meals', 'mean', 'measure', 'measurements', 'mechanical', 'mechanical ventilation', 'med', 'mediastinal', 'mediastinal pace', 'medical family', 'medical history', 'medical record', 'medically', 'medication', 'medications acetaminophen', 'medications admission', 'medications aspirin', 'medications change', 'medications discharge', 'medications flowsheet', 'medications furosemide', 'medications heparin', 'medications home', 'medications medications', 'medications metoprolol', 'medications morphine', 'medications pantoprazole', 'medications transfer', 'medicine', 'medicine allergies', 'meds', 'meet', 'meet hold', 'melena', 'mellitus', 'mellitus type', 'membranes', 'mental', 'mental status', 'meq', 'meq tablet', 'meropenem', 'meropenem infusions', 'metabolic', 'metformin', 'metoclopramide', 'metolazone', 'metoprolol', 'metoprolol medications', 'metoprolol succinate', 'metoprolol tartrate', 'metronidazole', 'metronidazole infusions', 'mi', 'miconazole', 'micro', 'microbiology', 'microbiology blood', 'micu', 'mid', 'midazolam', 'midazolam verse', 'midclavicular', 'midclavicular line', 'middle', 'midline', 'midnight', 'might', 'mild', 'mild aortic', 'mild mitral', 'mild moderate', 'mild pulmonary', 'mild soap', 'mild symmetric', 'mildly', 'mildly dilate', 'mildly thicken', 'milk', 'milk magnesia', 'milrinone', 'min', 'minimal', 'minimally', 'minutes', 'minutes doc', 'minutes patient', 'mitral', 'mitral regurgitation', 'mitral valve', 'mix', 'mix venous', 'mm', 'mm hg', 'mn', 'mobility', 'mod', 'mode', 'mode set', 'mode spontaneous', 'moderate', 'moderate mitral', 'moderate pulmonary', 'moderate severe', 'moderately', 'moderately dilate', 'moist', 'monday', 'monitor fluid', 'monitor telemetry', 'month', 'month take', 'months', 'mood', 'mood affect', 'morning', 'morning weigh', 'morphine', 'morphine prn', 'morphine sulfate', 'mother', 'mother die', 'motion', 'motion normal', 'motor', 'mouth', 'mouth care', 'mouth twice', 'move', 'move extremities', 'movement', 'movement assess', 'movement purposeful', 'movements', 'movements intact', 'much', 'mucosa', 'mucosa xanthalesma', 'mucous', 'multi', 'multi lumen', 'multifactorial', 'multifocal', 'multiple', 'multivitamin', 'murmur', 'murmur abdomen', 'murmur rub', 'murmur systolic', 'muscle', 'muscle use', 'musculoskeletal', 'mvi', 'mvr', 'myalgias', 'myocardial', 'myocardial infarction', 'nameis', 'narcotics', 'narrow', 'nasal', 'nasal cannula', 'nasal swab', 'native', 'nature', 'nausea', 'nausea emesis', 'nausea vomit', 'nc', 'ncat', 'ncat sclera', 'near', 'neb', 'neb soln', 'nebs', 'nebulizers', 'necessary', 'neck', 'neck supple', 'need', 'need constipation', 'need follow', 'need pain', 'neg', 'negative', 'neo', 'nephropathy', 'net', 'neuro', 'neuro alert', 'neuro check', 'neuro grossly', 'neurologic', 'neurologic attentive', 'neurologic awake', 'neurologic follow', 'neurologic neuro', 'neurologic respond', 'neurological', 'neurologically', 'neurologically intact', 'neurology', 'neurontin', 'neuropathy', 'neurosurgery', 'never', 'new', 'next', 'ngt', 'ngtd', 'night', 'nitro', 'nitroglycerin', 'nocturnal', 'nocturnal dyspnea', 'nod', 'node', 'nodule', 'nodules', 'non', 'nondistended', 'none', 'none history', 'none physical', 'nonfocal', 'nontender', 'nontender nondistended', 'norepinephrine', 'norepinephrine medications', 'normal', 'normal aortic', 'normal cavity', 'normal good', 'normal leave', 'normal limit', 'normal lvef', 'normal murmur', 'normal normal', 'normal peripheral', 'normal range', 'normal rv', 'normal saline', 'normal sinus', 'normal size', 'normal systolic', 'normal thrill', 'normalize', 'normally', 'normoactive', 'normocephalic', 'normocephalic atraumatic', 'normocephalic cardiovascular', 'normocephalic endotracheal', 'norvasc', 'nose', 'nose throat', 'notable', 'note', 'note care', 'note detail', 'note include', 'note patient', 'note review', 'notice', 'notify', 'nourish', 'nourish acute', 'nrb', 'nstemi', 'ntg', 'ntnd', 'ntnd hsm', 'number', 'number dictate', 'number doc', 'numbness', 'nurse', 'nutren', 'nutrition', 'nutrition comment', 'nutrition glycemic', 'nutrition nutren', 'nutrition regular', 'nutrition renal', 'nutrition tube', 'nutritional', 'nystatin', 'obese', 'obese soft', 'obesity', 'observation', 'observe', 'obstruction', 'obstructive', 'obtain', 'obtain patient', 'obtuse', 'obvious', 'occasional', 'occlude', 'occlusion', 'occupation', 'occupation retire', 'occur', 'octreotide', 'office', 'office question', 'og', 'og tube', 'ogt', 'ointments', 'ointments incisions', 'ok', 'oliguric', 'om', 'omeprazole', 'ondansetron', 'one', 'one appl', 'one capsule', 'one month', 'one tablet', 'one two', 'one unit', 'one week', 'ongoing', 'onset', 'oob', 'op', 'op clear', 'opacification', 'opacities', 'opacity', 'open', 'open eye', 'operate', 'operate room', 'operative', 'operative note', 'operative pod', 'ophthalmic', 'options', 'oral', 'oral mucosa', 'oral rinse', 'order', 'organ', 'organ dysfunction', 'organomegaly', 'orient', 'orient follow', 'orient mood', 'orient nonfocal', 'orient person', 'orient time', 'origin', 'oropharynx', 'oropharynx clear', 'ortho', 'orthopnea', 'osa', 'otherwise', 'outline', 'outpatient', 'outpt', 'output', 'outside', 'outside hospital', 'overall', 'overall leave', 'overlie', 'overload', 'overnight', 'overweight', 'overweight obese', 'oxycodone', 'oxygen', 'oxygen saturation', 'oxygenation', 'pace', 'pace current', 'pace wire', 'pacemaker', 'pacer', 'pack', 'pack red', 'pad', 'pain', 'pain chronic', 'pain control', 'pain disp', 'pain free', 'pain major', 'pain manage', 'pain nausea', 'pain palpitations', 'pain patient', 'pain shortness', 'pale', 'pallor', 'pallor cyanosis', 'palpable', 'palpation', 'palpation abdominial', 'palpitations', 'palpitations syncope', 'pancreatitis', 'panel', 'pantoprazole', 'pantoprazole protonix', 'pap', 'park', 'park ward', 'paroxysmal', 'paroxysmal atrial', 'paroxysmal nocturnal', 'part', 'partial', 'pass', 'past', 'past medical', 'past surgical', 'patch', 'patent', 'pathology', 'patient admit', 'patient allergies', 'patient appear', 'patient become', 'patient continue', 'patient critically', 'patient currently', 'patient deny', 'patient develop', 'patient discharge', 'patient discuss', 'patient disposition', 'patient evaluate', 'patient extubated', 'patient family', 'patient find', 'patient firstname', 'patient follow', 'patient give', 'patient history', 'patient initially', 'patient intubate', 'patient know', 'patient lastname', 'patient likely', 'patient live', 'patient male', 'patient medical', 'patient note', 'patient physically', 'patient present', 'patient receive', 'patient record', 'patient remain', 'patient report', 'patient require', 'patient see', 'patient start', 'patient state', 'patient take', 'patient tolerate', 'patient transfer', 'patient unable', 'patient undergo', 'patient well', 'pattern', 'pci', 'pcp', 'pcwp', 'pda', 'pea', 'pea arrest', 'peak', 'pedal', 'pedis', 'pedis diminish', 'pedis present', 'peep', 'peep pip', 'peep rsbi', 'peg', 'pelvis', 'pending', 'pending assessment', 'penicillin', 'penicillins', 'pepcid', 'per', 'per hour', 'per patient', 'per renal', 'per resident', 'percocet', 'percussion', 'percussion resonant', 'percutaneous', 'perform', 'perform show', 'perfuse', 'perfusion', 'perhaps', 'pericardial', 'pericardial effusion', 'pericardium', 'period', 'peripheral', 'peripheral edema', 'peripheral neuropathy', 'peripheral vascular', 'peritoneal', 'perrl', 'perrl cardiovascular', 'perrl eomi', 'perrl head', 'perrla', 'perrla eomi', 'persist', 'persistent', 'person', 'person followup', 'pertinent', 'pertinent result', 'pfts', 'ph', 'phenylephrine', 'phone', 'phone provider', 'physical exam', 'physical examination', 'physical therapy', 'physically', 'physically present', 'physician', 'physiology', 'picc', 'picc line', 'picture', 'pink', 'pink pallor', 'pip', 'pip physical', 'pip plateau', 'piperacillin', 'piperacillin infusions', 'pit', 'pit edema', 'piv', 'place', 'placement', 'plan', 'plan history', 'plan hour', 'plan male', 'plan neurologic', 'plan patient', 'plateau', 'plateau compliance', 'plateau physical', 'platelet', 'platelet count', 'platelets', 'platelets sodium', 'plavix', 'pleasant', 'please', 'please call', 'please follow', 'please lotions', 'please see', 'please shower', 'please take', 'pleural', 'pleural chest', 'pleural effusion', 'pleural effusions', 'pleural fluid', 'plts', 'plug', 'plus', 'pmh', 'pmh cad', 'pmh fh', 'pmh htn', 'pmhx', 'pmhx current', 'pmi', 'pmi locate', 'pmi normal', 'pna', 'pnd', 'pneumoboots', 'pneumoboots stress', 'pneumococcal', 'pneumonia', 'pneumonitis', 'pneumothorax', 'pod', 'pod cabg', 'point', 'poor', 'poor dentition', 'poor forward', 'poor intake', 'poorly', 'popliteal', 'popliteal leave', 'porcine', 'portal', 'portion', 'portion service', 'pos', 'position', 'positive', 'positive bowel', 'positive stool', 'possibility', 'possible', 'possibly', 'post', 'post coronary', 'post leave', 'post operative', 'posterior', 'posterior tibial', 'postoperative', 'postoperative two', 'postoperatively', 'potassium', 'potassium chloride', 'potential', 'pound', 'pound weeks', 'powder', 'powder ointments', 'ppd', 'ppi', 'ppi vap', 'ppm', 'ppx', 'ppx heparin', 'ppx pneumoboots', 'pr', 'prbc', 'prbcs', 'pre', 'precautions', 'prednisone', 'prefix', 'preliminary', 'premature', 'preoperative', 'prescribe', 'present distend', 'present extremities', 'present hospital', 'present illness', 'present leave', 'present pulse', 'present resident', 'present respiratory', 'present right', 'present skin', 'presentation', 'preserve', 'pressor', 'pressors', 'pressure', 'pressure control', 'pressure heart', 'pressure support', 'presume', 'presume full', 'presyncope', 'prevacid', 'prevent', 'previous', 'previous trace', 'previously', 'prilosec', 'primary', 'primary care', 'prior', 'prior admission', 'prior discharge', 'prior history', 'prior study', 'prior transfer', 'prn', 'prn access', 'prn pain', 'probable', 'probably', 'problem', 'problem enter', 'problems', 'procedure', 'procedure cardiac', 'procedure none', 'procedure well', 'procedures', 'process', 'products', 'products total', 'progress', 'progressive', 'progressively', 'prolapse', 'prolong', 'prominent', 'prophylaxis', 'prophylaxis dvt', 'prophylaxis medications', 'prophylaxis pneumoboots', 'prophylaxis ppx', 'propofol', 'propofol medications', 'prostate', 'protect', 'protect section', 'protection', 'protein', 'protocol', 'protonix', 'protonix heparin', 'protonix medications', 'provide', 'provide agree', 'provide history', 'provider', 'provider nameis', 'provider phone', 'proximal', 'ps', 'ps rr', 'psh', 'psych', 'ptca', 'ptt', 'ptt amylase', 'ptt assessment', 'ptt lactic', 'ptt troponin', 'ptx', 'puff', 'puff inhalation', 'pull', 'pulm', 'pulm edema', 'pulm htn', 'pulmonary', 'pulmonary artery', 'pulmonary disease', 'pulmonary edema', 'pulmonary embolism', 'pulmonary hypertension', 'pulmonic', 'pulmonic valve', 'pulse', 'pulse assess', 'pulse bilaterally', 'pulse dorsalis', 'pulse femoral', 'pulse posterior', 'pulse present', 'pulse right', 'pump', 'pupils', 'pupils equal', 'purposeful', 'purposeful tone', 'pursue', 'put', 'pvd', 'pyrexia', 'qam', 'qd', 'qhs', 'qid', 'qid time', 'quality', 'question', 'question concern', 'questionable', 'quickly', 'quit', 'quit smoke', 'quit years', 'quite', 'radial', 'radial pulse', 'radiate', 'radiation', 'radiograph', 'radiology', 'radiology creatinine', 'radiology glucose', 'radiology tropt', 'raise', 'rales', 'range', 'ranitidine', 'ranitidine tablet', 'rapid', 'rapidly', 'rare', 'rash', 'rash last', 'rashes', 'rate', 'rate blood', 'rate control', 'rate rhythm', 'rather', 'rbc', 'rca', 'reaction', 'reactions', 'reactions attend', 'reactive', 'reactive light', 'read', 'ready', 'ready discharge', 'reason', 'reassess', 'rebound', 'rebound tenderness', 'receive', 'receive lasix', 'receive units', 'recent', 'recently', 'recently admit', 'recheck', 'recieved', 'recommend', 'recommendations', 'record', 'record allergies', 'record know', 'recover', 'recovery', 'recs', 'rectal', 'rectum', 'recurrent', 'red', 'red blood', 'redness', 'redness drainage', 'reduce', 'reduction', 'refer', 'refill', 'refill aspirin', 'refill discharge', 'refill metoprolol', 'refill potassium', 'reflexes', 'reflux', 'refuse', 'regard', 'regimen', 'region', 'regional', 'regional leave', 'reglan', 'regular', 'regular diet', 'regular insulin', 'regular rate', 'regular respiratory', 'regulations', 'regurgitation', 'regurgitation mitral', 'regurgitation see', 'rehab', 'rehabilitation', 'relate', 'relatively', 'release', 'release disp', 'release every', 'release refill', 'release sig', 'remain', 'remain afebrile', 'remain hemodynamically', 'remain intubate', 'remain stable', 'remainder', 'remote', 'removal', 'remove', 'renal', 'renal disease', 'renal failure', 'renal foley', 'renal function', 'renal insufficiency', 'renal recs', 'renally', 'renally dose', 'repair', 'repeat', 'repeat head', 'replace', 'replacement', 'replete', 'replete electrolytes', 'replete lytes', 'report', 'report chest', 'report patient', 'reportedly', 'represent', 'request', 'require', 'require intubation', 'require pressors', 'requirement', 'requirements', 'resection', 'resident', 'resident key', 'resident note', 'residual', 'resistant', 'resolution', 'resolve', 'resonant', 'resp', 'resp failure', 'resp unlabored', 'respirations', 'respiratory', 'respiratory chest', 'respiratory delivery', 'respiratory distress', 'respiratory failure', 'respiratory rate', 'respiratory status', 'respiratory support', 'respond', 'respond assess', 'respond verbal', 'response', 'responsive', 'rest', 'rest hemodynamics', 'restart', 'restart coumadin', 'restart home', 'restriction', 'result', 'result admission', 'result blood', 'result urea', 'resume', 'resuscitate', 'resuscitate disposition', 'resuscitation', 'retire', 'retrocardiac', 'retroperitoneal', 'return', 'revascularization', 'reveal', 'reverse', 'review', 'review systems', 'rhonchi', 'rhonchi abdomen', 'rhonchorous', 'rhythm atrial', 'rhythm current', 'rhythm height', 'rhythm murmur', 'rhythm normal', 'rhythm pace', 'rhythm patient', 'rhythm regular', 'rhythm sr', 'rhythm st', 'rhythm total', 'rib', 'right absent', 'right arm', 'right atrial', 'right atrium', 'right carotid', 'right dominant', 'right extremities', 'right foot', 'right groin', 'right ij', 'right leave', 'right leg', 'right lower', 'right lung', 'right pleural', 'right pulse', 'right radial', 'right septum', 'right side', 'right trace', 'right upper', 'right ventricle', 'right ventricular', 'rij', 'ring', 'rinse', 'rise', 'risk', 'risk factor', 'riss', 'riss infectious', 'rle', 'rll', 'rom', 'room', 'room air', 'room undergo', 'root', 'ros', 'ros unchanged', 'round', 'round code', 'round comment', 'round reactive', 'rr', 'rr heart', 'rr normal', 'rr set', 'rr sit', 'rr spontaneous', 'rrr', 'rrr normal', 'rsbi', 'rsbi comment', 'rsbi defer', 'rsbi pip', 'rt', 'rub', 'rub gallop', 'rue', 'rule', 'run', 'rupture', 'ruq', 'rv', 'rvr', 'sacral', 'saline', 'sample', 'saphenous', 'saphenous vein', 'sats', 'saturation', 'saturations', 'saw', 'saw examine', 'say', 'sb', 'sbp', 'sbps', 'sc', 'scale', 'scale line', 'scan', 'scar', 'scar xanthomas', 'scatter', 'schedule', 'schedule appointments', 'schedule follow', 'sclera', 'sclera anicteric', 'sclerae', 'scoliosis', 'scoliosis kyphosis', 'scope', 'screen', 'second', 'secondary', 'secretions', 'section', 'section addendum', 'sedate', 'sedate tone', 'sedation', 'see', 'see aortic', 'see color', 'see leave', 'see mitral', 'see operative', 'see stitle', 'seem', 'segment', 'seizure', 'seizures', 'sem', 'send', 'senna', 'senna tablet', 'sensation', 'sense', 'sensitive', 'sensitivities', 'sepsis', 'septal', 'septal defect', 'septic', 'septic shock', 'septum', 'serial', 'serum', 'service', 'service cardiothoracic', 'service consult', 'service contact', 'service facility', 'service history', 'service medicine', 'service provide', 'set', 'set hypotension', 'set rr', 'set spontaneous', 'settings', 'seven', 'several', 'several days', 'severe', 'severely', 'severity', 'sex', 'sex service', 'sgot', 'shake', 'sheath', 'shift', 'shock', 'short', 'shortness', 'shortness breath', 'shoulder', 'show', 'show evidence', 'show large', 'shower', 'shower include', 'side', 'sig', 'sig one', 'sig tablet', 'sig tablets', 'sig three', 'sig two', 'sign comment', 'sign hemodynamic', 'sign stable', 'significant', 'significant change', 'significantly', 'silhouette', 'similar', 'simple', 'simple atheroma', 'simple command', 'simvastatin', 'simvastatin tablet', 'since', 'since admission', 'since tmax', 'single', 'sinus', 'sinus bradycardia', 'sinus level', 'sinus rhythm', 'sinus tachycardia', 'sister', 'sit', 'sit total', 'site', 'six', 'six hours', 'size', 'size free', 'size normal', 'size systolic', 'skin', 'skin assess', 'skin incision', 'skin integrity', 'skin stasis', 'skin warm', 'sleep', 'sleep apnea', 'slide', 'slide scale', 'slight', 'slightly', 'slow', 'slowly', 'small', 'small amount', 'small bilateral', 'small leave', 'small right', 'smoke', 'smoker', 'soap', 'soap bath', 'sob', 'social', 'social history', 'sodium', 'sodium capsule', 'sodium chloride', 'sodium furosemide', 'sodium liquid', 'sodium medications', 'sodium potassium', 'sodium prophylaxis', 'soft', 'soft bowel', 'soft leave', 'soft nontender', 'soft ntnd', 'soln', 'solution', 'solution sig', 'somewhat', 'son', 'soon', 'sound', 'sound bilateral', 'sound clear', 'sound crackle', 'sound diminish', 'sound extremities', 'sound present', 'sound rhonchorous', 'source', 'source infection', 'sp', 'space', 'space midclavicular', 'speak', 'specific', 'spectrum', 'spectrum antibiotics', 'speech', 'speech swallow', 'spend', 'spend doc', 'spend minutes', 'spike', 'spine', 'spontaneous', 'spontaneous echo', 'spontaneous peep', 'spontaneous ps', 'spontaneously', 'spray', 'sputum', 'sputum culture', 'sr', 'sr sinus', 'st', 'st depressions', 'st sinus', 'stabilize', 'stable', 'stable abdominal', 'stable afebrile', 'stable anemia', 'stable condition', 'stable continue', 'stable discharge', 'staff', 'stage', 'stain', 'stairs', 'stand', 'staph', 'staphylococcus', 'staple', 'start', 'start amiodarone', 'start arterial', 'start heparin', 'stasis', 'stasis dermatitis', 'state', 'statin', 'statins', 'status ambulatory', 'status clear', 'status continue', 'status delirium', 'status disposition', 'status dnr', 'status full', 'status improve', 'status post', 'stay', 'steady', 'stemi', 'stenosis', 'stenosis aortic', 'stenosis present', 'stent', 'stenting', 'stents', 'step', 'sternal', 'sternum', 'sternum stable', 'steroids', 'still', 'stimuli', 'stimuli move', 'stimuli movement', 'stitle', 'stitle cardiologist', 'stitle one', 'stitle stitle', 'stitle weeks', 'stomach', 'stone', 'stool', 'stool drain', 'stop', 'strength', 'strength mobility', 'stress', 'stress test', 'stress ulcer', 'stroke', 'structurally', 'structurally normal', 'structure', 'study', 'study image', 'subclavian', 'subcutaneous', 'sublingual', 'suboptimal', 'subsequent', 'subsequently', 'subtherapeutic', 'successful', 'successfully', 'succinate', 'succinate tablet', 'suction', 'sudden', 'suffer', 'sugar', 'suggest', 'suggestive', 'sulfa', 'sulfate', 'sulfate medications', 'sulfate metoprolol', 'sulfate solution', 'sulfonamides', 'summary', 'superior', 'supple', 'supple cardiac', 'supple elevate', 'supple full', 'support', 'support delivery', 'supratherapeutic', 'surgeon', 'surgeon stitle', 'surgery', 'surgery allergies', 'surgery bill', 'surgery consult', 'surgery office', 'surgical', 'surgical history', 'surgical invasive', 'surround', 'surveillance', 'suspect', 'suspension', 'suspension sig', 'suspicion', 'sustain', 'sustain release', 'svc', 'svg', 'svg om', 'svg pda', 'svr', 'swab', 'swallow', 'swell', 'swim', 'switch', 'symmetric', 'symmetric breath', 'symmetric leave', 'symmetric percussion', 'symptomatic', 'symptoms', 'syncope', 'syncope presyncope', 'syndrome', 'synthroid', 'system', 'systemic', 'systemic anticoagulation', 'systems', 'systems constitutional', 'systems flowsheet', 'systems unchanged', 'systolic', 'systolic blood', 'systolic chf', 'systolic diastolic', 'systolic dysfunction', 'systolic function', 'systolic heart', 'systolic hypertension', 'systolic murmur', 'systolic pressure', 'tab', 'tablet', 'tablet bedtime', 'tablet bid', 'tablet chewable', 'tablet days', 'tablet delay', 'tablet discharge', 'tablet disp', 'tablet every', 'tablet extend', 'tablet refill', 'tablet sig', 'tablet sustain', 'tablet three', 'tablet tid', 'tablet twice', 'tablets', 'tablets every', 'tachy', 'tachycardia', 'tachycardia current', 'tachycardic', 'tachypnea', 'take', 'take medications', 'take narcotics', 'take operate', 'take temperature', 'talk', 'tamponade', 'tamsulosin', 'tap', 'tape', 'taper', 'target', 'tartrate', 'tartrate tablet', 'tcurrent', 'tcurrent bpm', 'team', 'tear', 'tee', 'tele', 'telemetry', 'tell', 'temp', 'temperature', 'temperature warm', 'temperature write', 'tender', 'tenderness', 'tenderness aorta', 'tent', 'term', 'test', 'therapeutic', 'therapy', 'thereafter', 'therefore', 'thick', 'thicken', 'thicken aortic', 'thicken mild', 'thicken mitral', 'thickness', 'thickness cavity', 'thicknesses', 'thin', 'thin liquids', 'think', 'third', 'thoracentesis', 'thoracic', 'thoracic aorta', 'though', 'three', 'three tablet', 'three time', 'three vessel', 'thrill', 'thrill lift', 'throat', 'throat dry', 'throat normocephalic', 'thrombocytopeni', 'thrombocytopenia', 'thrombosis', 'thrombus', 'thrombus see', 'throughout', 'thursday', 'thus', 'thyroid', 'thyromegaly', 'tia', 'tibial', 'tibial present', 'tid', 'tid time', 'time', 'time discharge', 'time disp', 'time need', 'time patient', 'time spend', 'time three', 'tip', 'tissue', 'title', 'title chief', 'title title', 'titrate', 'tm', 'tmax', 'tmax current', 'tmax tcurrent', 'tobacco', 'tobacco alcohol', 'tobacco use', 'today', 'today care', 'today fluids', 'toe', 'toilet', 'tolerate', 'tolerate procedure', 'tolerate renal', 'tomorrow', 'tone', 'tone assess', 'tone normal', 'tongue', 'tonight', 'tonsillectomy', 'topical', 'toprol', 'tot', 'total', 'total anion', 'total blood', 'total time', 'total tube', 'total urine', 'touch', 'towards', 'toxin', 'tpn', 'trace', 'trace aortic', 'trace leave', 'trace skin', 'trach', 'trach mask', 'trachea', 'tracheostomy', 'tracheostomy tube', 'track', 'tract', 'tramadol', 'transaminitis', 'transfer', 'transfer back', 'transfer cardiac', 'transfer floor', 'transfer impair', 'transfer management', 'transfer micu', 'transfuse', 'transfusion', 'transfusions', 'transient', 'transition', 'transplant', 'trauma', 'trazodone', 'treat', 'treatment', 'trend', 'trial', 'tricuspid', 'tricuspid regurgitation', 'tricuspid valve', 'trigger', 'trivial', 'trivial mitral', 'trop', 'troponin', 'troponin amylase', 'troponins', 'tropt', 'tropt glucose', 'try', 'tsh', 'tte', 'ttp', 'tube', 'tube cardiovascular', 'tube drain', 'tube feed', 'tube mediastinal', 'tube og', 'tube place', 'tube pleural', 'tube remove', 'tube ventilator', 'tuesday', 'tunnel', 'turn', 'twice', 'two', 'two tablet', 'two tablets', 'two weeks', 'tx', 'tylenol', 'tylenol prn', 'type', 'type diabetes', 'ua', 'ucx', 'uf', 'uf heparin', 'ugib', 'ulcer', 'ulcer blocker', 'ulcer ppi', 'ulcer vap', 'ulcers', 'ulcers scar', 'ultrasound', 'un', 'un campus', 'un discharge', 'un identifier', 'unable', 'unable provide', 'unchanged', 'unchanged admission', 'unclear', 'unclear etiology', 'undergo', 'undergo cardiac', 'undergo coronary', 'underlie', 'unit', 'unit prbc', 'units', 'units pack', 'units prbcs', 'units subcutaneous', 'unknown', 'unknown last', 'unknown origin', 'unlabored', 'unlabored accessory', 'unless', 'unlikely', 'unremarkable', 'unresponsive', 'unstable', 'unsuccessful', 'uo', 'uop', 'upon', 'upon discharge', 'upper', 'upper extremity', 'upper lobe', 'upper lower', 'upright', 'urea', 'urea total', 'urgent', 'urinalysis', 'urinary', 'urinary tract', 'urine', 'urine culture', 'urine lytes', 'urine output', 'urine stool', 'urine urine', 'urology', 'us', 'use', 'usual', 'usually', 'uti', 'vac', 'valsartan', 'value', 'valve', 'valve appear', 'valve area', 'valve leaflets', 'valve prolapse', 'valve replacement', 'valve stenosis', 'valvular', 'vanc', 'vanco', 'vancomycin', 'vancomycin hour', 'vancomycin infusions', 'vap', 'vap bundle', 'vap comment', 'vap hob', 'varices', 'varicosities', 'vascular', 'vascular disease', 'vascular right', 'vascular surgery', 'vasopressin', 'vegetations', 'vein', 'vein graft', 'velocity', 'venous', 'venous sit', 'venous thrombosis', 'vent', 'ventilation', 'ventilation start', 'ventilation stop', 'ventilator', 'ventilator mode', 'ventricle', 'ventricle ejection', 'ventricle normal', 'ventricular', 'ventricular cavity', 'ventricular chamber', 'ventricular hypertrophy', 'ventricular systolic', 'ventricular tachycardia', 'ventricular wall', 'verbal', 'verbal stimuli', 'verse', 'verse fentanyl', 'verse medications', 'versus', 'vertebral', 'vessel', 'vessel coronary', 'vessel disease', 'vessels', 'via', 'view', 'viral', 'virus', 'vision', 'visit', 'visualize', 'vit', 'vital', 'vital sign', 'vitals', 'vitamin', 'vitamin unit', 'vna', 'voice', 'volume', 'volume overload', 'volumes', 'vomit', 'vomit diarrhea', 'wake', 'wake rsbi', 'walk', 'walker', 'wall', 'wall deformities', 'wall hypokinesis', 'wall motion', 'wall thickness', 'wall thicknesses', 'want', 'ward', 'ward clinical', 'ward garage', 'warfarin', 'warfarin tablet', 'warm', 'warm edema', 'warm neurologic', 'warm pulse', 'warm well', 'wash', 'wash incisions', 'watch', 'water', 'wave', 'weak', 'weakness', 'wean', 'wean pressors', 'wean sedation', 'wean tolerate', 'wean vent', 'wear', 'wedge', 'wednesday', 'week', 'weekend', 'weeks', 'weeks call', 'weeks discharge', 'weeks please', 'weeks stitle', 'weigh', 'weigh even', 'weight', 'weight gain', 'weight loss', 'well', 'well control', 'well erythema', 'well nourish', 'well perfuse', 'well transfer', 'west', 'wheeze', 'wheeze rales', 'wheeze rhonchi', 'whether', 'white', 'white blood', 'white count', 'wife', 'wind', 'wind care', 'wire', 'wire discontinue', 'wire wound', 'withdraw', 'withdrawal', 'within', 'within hours', 'within normal', 'without', 'without complication', 'without difficulty', 'without evidence', 'work', 'workup', 'worse', 'worsen', 'worsen renal', 'would', 'would like', 'wound', 'wound dry', 'write', 'write chart', 'wt', 'wt pmh', 'xanthalesma', 'xanthalesma neck', 'xanthomas', 'xanthomas pulse', 'years', 'yeast', 'yesterday', 'yet', 'yrs', 'zantac', 'zocor', 'zofran']\n",
      "\n"
     ]
    }
   ],
   "source": [
    "cv = TfidfVectorizer(lowercase=True, max_df=0.780, max_features=None, min_df=0.025,\n",
    "                     ngram_range=(1, 2), preprocessor=None, stop_words=cachedStopWords,\n",
    "                     strip_accents=None, tokenizer=tokenize, vocabulary=None)\n",
    "X = cv.fit_transform(corpusList)\n",
    "print(X.shape)\n",
    "print()\n",
    "lexicon = cv.get_feature_names()\n",
    "print (lexicon)\n",
    "print()"
   ]
  },
  {
   "cell_type": "code",
   "execution_count": 34,
   "metadata": {
    "scrolled": true
   },
   "outputs": [
    {
     "data": {
      "text/plain": [
       "array([1, 1, 1, 1, 1, 1, 1, 1, 1, 1, 1, 1, 1, 1, 1, 1, 1, 1, 1, 1, 1, 1, 1,\n",
       "       1, 1, 1, 1, 1, 1, 1, 1, 1, 1, 1, 1, 1, 1, 1, 1, 1, 1, 1, 1, 1, 1, 1,\n",
       "       1, 1, 1, 1, 1, 1, 1, 1, 1, 1, 1, 1, 1, 1, 1, 1, 1, 1, 1, 1, 1, 1, 1,\n",
       "       1, 1, 1, 1, 1, 1, 1, 1, 1, 1, 1, 1, 1, 1, 1, 1, 1, 1, 1, 1, 1, 1, 1,\n",
       "       1, 1, 1, 1, 1, 1, 1, 1, 1, 1, 1, 1, 1, 1, 1, 1, 1, 1, 1, 1, 1, 1, 1,\n",
       "       1, 1, 1, 1, 1, 1, 1, 1, 1, 1, 1, 1, 1, 1, 1, 1, 1, 1, 1, 1, 1, 1, 1,\n",
       "       1, 1, 1, 1, 1, 1, 1, 1, 1, 1, 1, 1, 1, 1, 1, 1, 1, 1, 1, 1, 1, 1, 1,\n",
       "       1, 1, 1, 1, 1, 1, 1, 1, 1, 1, 1, 1, 1, 1, 1, 1, 1, 1, 1, 1, 1, 1, 1,\n",
       "       1, 1, 1, 1, 1, 1, 1, 1, 1, 1, 1, 1, 1, 1, 1, 1, 1, 1, 1, 1, 1, 1, 1,\n",
       "       1, 1, 1, 1, 1, 1, 1, 1, 1, 1, 1, 1, 1, 1, 1, 1, 1, 1, 0, 0, 0, 0, 0,\n",
       "       0, 0, 0, 0, 0, 0, 0, 0, 0, 0, 0, 0, 0, 0, 0, 0, 0, 0, 0, 0, 0, 0, 0,\n",
       "       0, 0, 0, 0, 0, 0, 0, 0, 0, 0, 0, 0, 0, 0, 0, 0, 0, 0, 0, 0, 0, 0, 0,\n",
       "       0, 0, 0, 0, 0, 0, 0, 0, 0, 0, 0, 0, 0, 0, 0, 0, 0, 0, 0, 0, 0, 0, 0,\n",
       "       0, 0, 0, 0, 0, 0, 0, 0, 0, 0, 0, 0, 0, 0, 0, 0, 0, 0, 0, 0, 0, 0, 0,\n",
       "       0, 0, 0, 0, 0, 0, 0, 0, 0, 0, 0, 0, 0, 0, 0, 0, 0, 0, 0, 0, 0, 0, 0,\n",
       "       0, 0, 0, 0, 0, 0, 0, 0, 0, 0, 0, 0, 0, 0, 0, 0, 0, 0, 0, 0, 0, 0, 0,\n",
       "       0, 0, 0, 0, 0, 0, 0, 0, 0, 0, 0, 0, 0, 0, 0, 0, 0, 0, 0, 0, 0, 0, 0,\n",
       "       0, 0, 0, 0, 0, 0, 0, 0, 0, 0, 0, 0, 0, 0, 0, 0, 0, 0, 0, 0, 0, 0, 0,\n",
       "       0, 0, 0, 0, 0, 0, 0, 0, 0, 0, 0, 0, 0, 0, 0, 0, 0, 0, 0, 0, 0, 0, 0,\n",
       "       0, 0, 0, 0, 0, 0, 0, 0, 0, 0, 0, 0, 0])"
      ]
     },
     "execution_count": 34,
     "metadata": {},
     "output_type": "execute_result"
    }
   ],
   "source": [
    "Y = np.array(labels)\n",
    "Y  ##sklearn feature selection selectkbest "
   ]
  },
  {
   "cell_type": "code",
   "execution_count": 35,
   "metadata": {
    "scrolled": false
   },
   "outputs": [
    {
     "name": "stdout",
     "output_type": "stream",
     "text": [
      "model  0 : ExtraTreesClassifier = 100\n",
      "   Fold 1 accuracy: 97.78 %\n",
      "   Fold 2 accuracy: 84.44 %\n",
      "   Fold 3 accuracy: 73.33 %\n",
      "   Fold 4 accuracy: 88.89 %\n",
      "   Fold 5 accuracy: 84.44 %\n",
      "   Fold 6 accuracy: 93.33 %\n",
      "   Fold 7 accuracy: 86.67 %\n",
      "   Fold 8 accuracy: 84.44 %\n",
      "   Fold 9 accuracy: 86.67 %\n",
      "   Fold 10 accuracy: 86.67 %\n",
      "     Overall test accuracy: 86.67 %\n",
      "     Overall training accuracy: 100.00 %\n"
     ]
    }
   ],
   "source": [
    "#ExtraTreesClassifier(bootstrap=False, class_weight='balanced',\n",
    "        #   criterion='gini', max_depth=None, max_features='auto',\n",
    "        #   max_leaf_nodes=None, min_impurity_split=1e-07,\n",
    "        #   min_samples_leaf=1, min_samples_split=2,\n",
    "        #   min_weight_fraction_leaf=0.0, n_estimators=10, n_jobs=1,\n",
    "        #   oob_score=False, random_state=None, verbose=0, warm_start=False)\n",
    "        \n",
    "        \n",
    "model=0\n",
    "results = []\n",
    "cont = []\n",
    "kf = KFold(n_splits=10, shuffle=True)\n",
    "trees = [ 100]\n",
    "for t in range(len(trees)):\n",
    "    fold = 1\n",
    "    truth = []\n",
    "    rf_prediction = []\n",
    "    print(\"model \", t, \": ExtraTreesClassifier = \" + str(trees[t]))\n",
    "    test_count = 0\n",
    "    rf = ExtraTreesClassifier(bootstrap=False,\n",
    "           criterion='gini', max_depth=None, max_features=0.75421,class_weight='balanced',\n",
    "           max_leaf_nodes=None, min_impurity_decrease=1e-05,\n",
    "           min_samples_leaf=2, min_samples_split=2,\n",
    "           min_weight_fraction_leaf=0.0, n_estimators=70, n_jobs=-1,\n",
    "           oob_score=False, random_state=None, verbose=0, warm_start=False)\n",
    "    for train_idx, test_idx in kf.split(X):\n",
    "        trainX = X[train_idx]\n",
    "        trainY = Y[train_idx]\n",
    "        testX = X[test_idx]\n",
    "        testY = Y[test_idx]\n",
    "        truth.append(testY)\n",
    "        rf.fit(trainX, trainY)\n",
    "        Y_hat = rf.predict(testX)\n",
    "        rf_prediction.append(Y_hat)\n",
    "        print(\"   Fold %d accuracy: %.2f %%\" % (fold, ((np.sum(Y_hat == testY)/len(testY)) * 100.0)))                        \n",
    "        fold += 1\n",
    "    truth = np.concatenate(truth, axis=0)    \n",
    "    rf_prediction = np.concatenate(rf_prediction, axis=0)\n",
    "    test_results = np.sum(rf_prediction == truth)/len(truth)\n",
    "    print(\"     Overall test accuracy: %.2f %%\" % (test_results * 100))  \n",
    "    rf = rf.fit(X, Y)\n",
    "    Y_hat = rf.predict(X)\n",
    "    train_results = np.sum(Y_hat == Y)/len(Y)\n",
    "    print(\"     Overall training accuracy: %.2f %%\" % (train_results * 100.0))  \n",
    "    results.append([train_results, test_results])   \n",
    "    cont.append([truth, rf_prediction])"
   ]
  },
  {
   "cell_type": "code",
   "execution_count": null,
   "metadata": {},
   "outputs": [],
   "source": []
  },
  {
   "cell_type": "code",
   "execution_count": 36,
   "metadata": {},
   "outputs": [
    {
     "name": "stdout",
     "output_type": "stream",
     "text": [
      "Enter Best Model: 0\n",
      "\n",
      "Random Forest\n",
      "       Other  PNA  Total\n",
      "Other    189   24    213\n",
      "PNA       36  201    237\n",
      "Total    225  225    450\n",
      "\n"
     ]
    }
   ],
   "source": [
    "model = input(\"Enter Best Model: \")\n",
    "best = cont[int(model)]\n",
    "rf_ct = pd.crosstab(best[1], best[0], margins=True)\n",
    "rf_ct.columns = [\"Other\", \"PNA\", \"Total\"]\n",
    "rf_ct.index = [\"Other\", \"PNA\", \"Total\"]\n",
    "print()\n",
    "print(\"Random Forest\")\n",
    "print(rf_ct)\n",
    "print()\n"
   ]
  },
  {
   "cell_type": "code",
   "execution_count": 37,
   "metadata": {},
   "outputs": [
    {
     "name": "stdout",
     "output_type": "stream",
     "text": [
      "[[189  36]\n",
      " [ 24 201]]\n",
      "0.87012987013\n",
      "0.893333333333\n",
      "0.848101265823\n",
      "0.866666666667\n",
      "             precision    recall  f1-score   support\n",
      "\n",
      "          0       0.89      0.84      0.86       225\n",
      "          1       0.85      0.89      0.87       225\n",
      "\n",
      "avg / total       0.87      0.87      0.87       450\n",
      "\n"
     ]
    }
   ],
   "source": [
    "from sklearn.metrics import confusion_matrix\n",
    "from sklearn.metrics import recall_score,f1_score,precision_score,accuracy_score,classification_report\n",
    "y_true =cont[int(model)][0]\n",
    "y_pred = cont[int(model)][1]\n",
    "print(confusion_matrix(y_true, y_pred))\n",
    "print(f1_score(y_true, y_pred) )\n",
    "\n",
    "\n",
    "\n",
    "print(recall_score(y_true, y_pred),   )\n",
    "print(precision_score(y_true, y_pred))\n",
    "print(accuracy_score(y_true, y_pred))\n",
    "\n",
    "print(classification_report(y_true, y_pred))\n"
   ]
  },
  {
   "cell_type": "code",
   "execution_count": 38,
   "metadata": {},
   "outputs": [
    {
     "name": "stdout",
     "output_type": "stream",
     "text": [
      "Random Forest: Sensitivity: 0.89333 Specificity: 0.84000 PPV: 0.84810 NPV: 0.88732 Accuracy: 0.86667\n"
     ]
    }
   ],
   "source": [
    "\n",
    "Sens = rf_ct.iloc[1][1]/rf_ct.iloc[2][1]\n",
    "Spec = rf_ct.iloc[0][0]/rf_ct.iloc[2][0]\n",
    "PPV = rf_ct.iloc[1][1]/rf_ct.iloc[1][2]\n",
    "NPV = rf_ct.iloc[0][0]/rf_ct.iloc[0][2]\n",
    "ACC = (rf_ct.iloc[0][0] + rf_ct.iloc[1][1]) / rf_ct.iloc[2][2]\n",
    "print(\"Random Forest: Sensitivity: %.5f Specificity: %.5f PPV: %.5f NPV: %.5f Accuracy: %.5f\" % (Sens, Spec, PPV, NPV, ACC))"
   ]
  },
  {
   "cell_type": "code",
   "execution_count": 39,
   "metadata": {},
   "outputs": [
    {
     "data": {
      "image/png": "[encoded data removed]",
      "text/plain": [
       "<matplotlib.figure.Figure at 0x11cf99668>"
      ]
     },
     "metadata": {},
     "output_type": "display_data"
    },
    {
     "name": "stdout",
     "output_type": "stream",
     "text": [
      "AUC =  0.866666666667\n"
     ]
    }
   ],
   "source": [
    "\n",
    "rf_fpr, rf_tpr, rf_thresholds = roc_curve(best[0], best[1], pos_label=1)\n",
    "roc_auc = auc(rf_fpr, rf_tpr)\n",
    "plt.figure(1)\n",
    "plt.plot([0, 1], [0, 1], 'k--')\n",
    "plt.plot(rf_fpr, rf_tpr, label='Random Forest')\n",
    "plt.xlabel('False positive rate (1 - Specificity)')\n",
    "plt.ylabel('True Positive Rate (Sensitivity)')\n",
    "plt.title('ROC curve')\n",
    "plt.legend(loc='best')\n",
    "plt.show()\n",
    "print(\"AUC = \", roc_auc)"
   ]
  },
  {
   "cell_type": "code",
   "execution_count": null,
   "metadata": {
    "collapsed": true
   },
   "outputs": [],
   "source": []
  },
  {
   "cell_type": "code",
   "execution_count": null,
   "metadata": {
    "collapsed": true
   },
   "outputs": [],
   "source": []
  },
  {
   "cell_type": "code",
   "execution_count": 11,
   "metadata": {},
   "outputs": [
    {
     "name": "stdout",
     "output_type": "stream",
     "text": [
      "train_index:[ 3  4  5  6  7  8  9 10 11] , test_index: [0 1 2] \n",
      "train_index:[ 0  1  2  6  7  8  9 10 11] , test_index: [3 4 5] \n",
      "train_index:[ 0  1  2  3  4  5  9 10 11] , test_index: [6 7 8] \n",
      "train_index:[0 1 2 3 4 5 6 7 8] , test_index: [ 9 10 11] \n"
     ]
    }
   ],
   "source": [
    "from sklearn.model_selection import KFold  \n",
    "import numpy as np  \n",
    "X = np.arange(24).reshape(12,2)  \n",
    "y = np.random.choice([1,2],12,p=[0.4,0.6])  \n",
    "kf = KFold(n_splits=4,shuffle=False)  \n",
    "for train_index , test_index in kf.split(X):  \n",
    "    print('train_index:%s , test_index: %s ' %(train_index,test_index)) "
   ]
  },
  {
   "cell_type": "code",
   "execution_count": null,
   "metadata": {
    "collapsed": true
   },
   "outputs": [],
   "source": []
  }
 ],
 "metadata": {
  "kernelspec": {
   "display_name": "Python 3",
   "language": "python",
   "name": "python3"
  },
  "language_info": {
   "codemirror_mode": {
    "name": "ipython",
    "version": 3
   },
   "file_extension": ".py",
   "mimetype": "text/x-python",
   "name": "python",
   "nbconvert_exporter": "python",
   "pygments_lexer": "ipython3",
   "version": "3.6.1"
  }
 },
 "nbformat": 4,
 "nbformat_minor": 2
}
